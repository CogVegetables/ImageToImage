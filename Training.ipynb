{
 "cells": [
  {
   "cell_type": "markdown",
   "metadata": {},
   "source": [
    "# Training"
   ]
  },
  {
   "cell_type": "code",
   "execution_count": 2,
   "metadata": {},
   "outputs": [],
   "source": [
    "import numpy as np\n",
    "import mygrad as mg\n",
    "import mynn\n",
    "\n",
    "from mynn.layers.dense import dense\n",
    "from mynn.optimizers.adam import Adam\n",
    "\n",
    "from mygrad.nnet.losses.margin_ranking_loss import margin_ranking_loss\n",
    "from mygrad.nnet.initializers import glorot_normal\n",
    "\n",
    "import pickle\n",
    "\n",
    "%matplotlib notebook\n",
    "import matplotlib.pyplot as plt"
   ]
  },
  {
   "cell_type": "code",
   "execution_count": null,
   "metadata": {},
   "outputs": [],
   "source": [
    "class LinearEncoder:\n",
    "    def __init__(self, d_input, d_output):\n",
    "        \"\"\" This initializes all of the layers in our model, and sets them\n",
    "        as attributes of the model.\n",
    "        \n",
    "        Parameters\n",
    "        ----------\n",
    "        d_input : int\n",
    "            The size of the inputs.\n",
    "            \n",
    "        d_output : int\n",
    "            The size of the outputs (i.e., the reduced dimensionality).\n",
    "        \"\"\"\n",
    "        \n",
    "        self.encoder = dense(d_input, d_output, weight_initializer=glorot_normal)\n",
    "        \n",
    "    def __call__(self, x):\n",
    "        '''Passes data as input to our model, performing a \"forward-pass\".\n",
    "        \n",
    "        This allows us to conveniently initialize a model `m` and then send data through it\n",
    "        to be classified by calling `m(x)`.\n",
    "        \n",
    "        Parameters\n",
    "        ----------\n",
    "        x : Union[numpy.ndarray, mygrad.Tensor], shape=(M, D_full)\n",
    "            A batch of data consisting of M pieces of data,\n",
    "            each with a dimentionality of D_full.\n",
    "            \n",
    "        Returns\n",
    "        -------\n",
    "        mygrad.Tensor, shape=(M, D_full)\n",
    "            The model's prediction for each of the M pieces of data.\n",
    "        '''\n",
    "        \n",
    "        return self.encoder(x) \n",
    "        \n",
    "    @property\n",
    "    def parameters(self):\n",
    "        \"\"\" A convenience function for getting all the parameters of our model.\n",
    "        \n",
    "        This can be accessed as an attribute, via `model.parameters` \n",
    "        \n",
    "        Returns\n",
    "        -------\n",
    "        Tuple[Tensor, ...]\n",
    "            A tuple containing all of the learnable parameters for our model \"\"\"\n",
    "        \n",
    "        return self.encoder.parameters"
   ]
  },
  {
   "cell_type": "code",
   "execution_count": 1,
   "metadata": {
    "scrolled": true
   },
   "outputs": [
    {
     "name": "stderr",
     "output_type": "stream",
     "text": [
      "/Users/ria/opt/anaconda3/envs/week3/lib/python3.8/site-packages/noggin/plotter.py:364: UserWarning: Live plotting is not supported when matplotlib uses the 'module://ipykernel.pylab.backend_inline'\n",
      "backend. Instead, use the 'nbAgg' backend.\n",
      "\n",
      "In a Jupyter notebook, this can be activated using the cell magic:\n",
      "   %matplotlib notebook.\n",
      "  warn(cleandoc(_inline_msg.format(self._backend)))\n"
     ]
    },
    {
     "data": {
      "image/png": "[encoded data removed]",
      "text/plain": [
       "<Figure size 432x288 with 2 Axes>"
      ]
     },
     "metadata": {
      "needs_background": "light"
     },
     "output_type": "display_data"
    }
   ],
   "source": [
    "from noggin import create_plot\n",
    "plotter, fig, ax = create_plot([\"loss\", \"accuracy\"])"
   ]
  },
  {
   "cell_type": "code",
   "execution_count": null,
   "metadata": {},
   "outputs": [],
   "source": [
    "model = LinearEncoder(d_input=512, d_output=50)\n",
    "optimizer = Adam(model.parameters)"
   ]
  },
  {
   "cell_type": "code",
   "execution_count": null,
   "metadata": {},
   "outputs": [],
   "source": [
    "plot_every = 500\n",
    "\n",
    "for k in range(100000):\n",
    "    \n",
    "    output = model(x)\n",
    "        \n",
    "    loss = margin_ranking_loss(s_good, s_bad, y=1)\n",
    "    \n",
    "    acc = float(np.argmax(output.data.squeeze()) == target.item())\n",
    "\n",
    "    plotter.set_train_batch({\"loss\":loss.item(), \"accuracy\":acc}, batch_size=1, plot=False)\n",
    "    \n",
    "    if k % plot_every == 0 and k > 0:\n",
    "        plotter.set_train_epoch()\n",
    "\n",
    "    loss.backward()\n",
    "    optimizer.step()\n",
    "    loss.null_gradients()"
   ]
  }
 ],
 "metadata": {
  "kernelspec": {
   "display_name": "Python 3",
   "language": "python",
   "name": "python3"
  },
  "language_info": {
   "codemirror_mode": {
    "name": "ipython",
    "version": 3
   },
   "file_extension": ".py",
   "mimetype": "text/x-python",
   "name": "python",
   "nbconvert_exporter": "python",
   "pygments_lexer": "ipython3",
   "version": "3.8.3"
  }
 },
 "nbformat": 4,
 "nbformat_minor": 4
}

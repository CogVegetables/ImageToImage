{
 "cells": [
  {
   "cell_type": "code",
   "execution_count": 6,
   "metadata": {},
   "outputs": [],
   "source": [
    "import numpy as np\n",
    "import io\n",
    "import requests\n",
    "from PIL import Image"
   ]
  },
  {
   "cell_type": "code",
   "execution_count": 7,
   "metadata": {},
   "outputs": [],
   "source": [
    "__all__ = [\"download_image\"]\n",
    "\n",
    "\n",
    "def download_image(img_url):\n",
    "    \"\"\" Fetches an image from the web.\n",
    "\n",
    "    Parameters\n",
    "    ----------\n",
    "    img_url : string\n",
    "        The url of the image to fetch.\n",
    "\n",
    "    Returns\n",
    "    -------\n",
    "    PIL.Image\n",
    "        The image.\"\"\"\n",
    "\n",
    "    response = requests.get(img_url)\n",
    "    return Image.open(io.BytesIO(response.content))"
   ]
  },
  {
   "cell_type": "code",
   "execution_count": 8,
   "metadata": {},
   "outputs": [],
   "source": [
    "def display_images(image_ids, mappings_object):\n",
    "    for each in image_ids:\n",
    "        download_image(mappings_object.image_ids_to_urls[each])\n",
    "    return \"Displaying top {} images\".format(len(image_ids))"
   ]
  },
  {
   "cell_type": "code",
   "execution_count": 9,
   "metadata": {},
   "outputs": [],
   "source": [
    "def get_image_embeddings(img_ids, resnet18_features):\n",
    "    \"\"\"\n",
    "    Parameters\n",
    "    ----------\n",
    "    Sequence[int]\n",
    "        N image IDs \n",
    "    resnet18_features : Dict[int, np.ndarray]\n",
    "        img-ID -> shape-(512,) resnet vector\n",
    "    \n",
    "    Returns\n",
    "    -------\n",
    "    shape-(N, 512)\n",
    "        An array of the corresponding resnet vectors\n",
    "    \"\"\"\n",
    "    vectors = np.zeros((len(img_ids), 512), dtype=np.float32)\n",
    "    for n, _id in enumerate(img_ids):\n",
    "        vectors[n] = resnet18_features[_id]\n",
    "    return vectors"
   ]
  },
  {
   "cell_type": "code",
   "execution_count": 11,
   "metadata": {},
   "outputs": [],
   "source": [
    "class ImageSemantics():\n",
    "    \n",
    "    def __init__(self):\n",
    "        self.database = {}\n",
    "        \n",
    "    def __repr__(self):\n",
    "        return \"Database of Image Semantics\"\n",
    "    \n",
    "    def create_database(self, LinearEncoder, image_ids):\n",
    "        for image_id in image_ids:\n",
    "            self.database[image_id] = LinearEncoder(get_image_embeddings((img_id,), resnet))\n",
    "            \n",
    "    def query_database(caption, num_outs, mappings_object):\n",
    "        caption_emb = mappings_object.caption_to_emb(caption)\n",
    "        overlaps = np.matmul(caption_emb, self.database.values())\n",
    "        overlaps = np.argsort(overlaps)\n",
    "        k_imgs = overlaps[-1*num_outs:]\n",
    "        display_images(k_imgs, mappings_object)\n",
    "            \n",
    "    def save_database(self, file_path):\n",
    "        with open(file_path, mode='wb') as opened_file:\n",
    "            pickle.dump(self.database, opened_file)\n",
    "        return 'Database Saved'\n",
    "            \n",
    "    def load_database(self, file_path):\n",
    "        with open (file_path, mode='rb') as opened_file:\n",
    "            self.database = pickle.load(opened_file)\n",
    "        return 'Database Loaded'"
   ]
  },
  {
   "cell_type": "code",
   "execution_count": null,
   "metadata": {},
   "outputs": [],
   "source": []
  }
 ],
 "metadata": {
  "kernelspec": {
   "display_name": "Python 3",
   "language": "python",
   "name": "python3"
  },
  "language_info": {
   "codemirror_mode": {
    "name": "ipython",
    "version": 3
   },
   "file_extension": ".py",
   "mimetype": "text/x-python",
   "name": "python",
   "nbconvert_exporter": "python",
   "pygments_lexer": "ipython3",
   "version": "3.8.3"
  }
 },
 "nbformat": 4,
 "nbformat_minor": 4
}
